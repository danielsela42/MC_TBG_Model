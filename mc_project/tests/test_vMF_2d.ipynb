{
 "metadata": {
  "language_info": {
   "codemirror_mode": {
    "name": "ipython",
    "version": 3
   },
   "file_extension": ".py",
   "mimetype": "text/x-python",
   "name": "python",
   "nbconvert_exporter": "python",
   "pygments_lexer": "ipython3",
   "version": "3.8.2-final"
  },
  "orig_nbformat": 2,
  "kernelspec": {
   "name": "python3",
   "display_name": "Python 3",
   "language": "python"
  }
 },
 "nbformat": 4,
 "nbformat_minor": 2,
 "cells": [
  {
   "cell_type": "code",
   "execution_count": 6,
   "metadata": {},
   "outputs": [
    {
     "output_type": "display_data",
     "data": {
      "text/plain": "Canvas(toolbar=Toolbar(toolitems=[('Home', 'Reset original view', 'home', 'home'), ('Back', 'Back to previous …",
      "application/vnd.jupyter.widget-view+json": {
       "version_major": 2,
       "version_minor": 0,
       "model_id": "a37c7097026b4304a4bfce0124a435c7"
      }
     },
     "metadata": {}
    }
   ],
   "source": [
    "# Enabling the `widget` backend.\n",
    "# This requires jupyter-matplotlib a.k.a. ipympl.\n",
    "# ipympl can be install via pip or conda.\n",
    "%matplotlib widget\n",
    "# aka import ipympl\n",
    "\n",
    "import matplotlib.pyplot as plt\n",
    "import numpy as np\n",
    "from mc_project.vMF_sampling import sample_vMF\n",
    "\n",
    "mu = np.array([1, 0])\n",
    "kappa = 0\n",
    "# samples = sample_vMF(mu, kappa, 100)\n",
    "raw = np.random.normal(0, 1, size=(100, 2))\n",
    "samples = [a*(1/np.sqrt(sum(a*a))) for a in raw]\n",
    "\n",
    "fig, ax = plt.subplots()\n",
    "# ax = fig.gca(projection='rectangular')\n",
    "ax.set_aspect(\"auto\")\n",
    "\n",
    "draw_circle = plt.Circle((0, 0), 1,fill=False)\n",
    "\n",
    "ax.add_artist(draw_circle)\n",
    "\n",
    "ax.scatter([a[0] for a in samples], [a[1] for a in samples], color='r')\n",
    "plt.show()"
   ]
  },
  {
   "cell_type": "code",
   "execution_count": null,
   "metadata": {},
   "outputs": [],
   "source": []
  }
 ]
}